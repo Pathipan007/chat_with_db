{
 "cells": [
  {
   "cell_type": "code",
   "execution_count": 1,
   "id": "4928766c",
   "metadata": {},
   "outputs": [
    {
     "name": "stderr",
     "output_type": "stream",
     "text": [
      "/Users/pathipanchongkul/spider_env/lib/python3.9/site-packages/tqdm/auto.py:21: TqdmWarning: IProgress not found. Please update jupyter and ipywidgets. See https://ipywidgets.readthedocs.io/en/stable/user_install.html\n",
      "  from .autonotebook import tqdm as notebook_tqdm\n"
     ]
    }
   ],
   "source": [
    "import pandas as pd\n",
    "import json\n",
    "import re\n",
    "import numpy as np\n",
    "from sklearn.model_selection import GridSearchCV, train_test_split\n",
    "from sklearn.metrics import classification_report, accuracy_score, f1_score, confusion_matrix\n",
    "from sklearn.preprocessing import StandardScaler\n",
    "import seaborn as sns\n",
    "import matplotlib.pyplot as plt\n",
    "from lightgbm import LGBMClassifier\n",
    "from sklearn.decomposition import TruncatedSVD\n",
    "from imblearn.over_sampling import SMOTE\n",
    "from sentence_transformers import SentenceTransformer\n",
    "import joblib"
   ]
  },
  {
   "cell_type": "code",
   "execution_count": 2,
   "id": "b1cb3702",
   "metadata": {},
   "outputs": [],
   "source": [
    "# -----------------------\n",
    "# 1. ฟังก์ชัน Extract SQL Features (Handcrafted)\n",
    "# -----------------------\n",
    "def extract_sql_features(sql):\n",
    "    sql = sql.upper()\n",
    "    features = {}\n",
    "\n",
    "    keywords = [\n",
    "        'SELECT', 'FROM', 'WHERE', 'JOIN', 'INNER JOIN', 'LEFT JOIN', 'RIGHT JOIN',\n",
    "        'GROUP BY', 'HAVING', 'ORDER BY', 'LIMIT', 'COUNT', 'SUM', 'AVG', 'MAX', 'MIN',\n",
    "        'WITH', 'RANK', 'ROW_NUMBER', 'PARTITION BY'\n",
    "    ]\n",
    "    for keyword in keywords:\n",
    "        features[f'count_{keyword.lower().replace(\" \", \"_\")}'] = len(re.findall(r'\\b' + keyword + r'\\b', sql))\n",
    "    \n",
    "    features['has_subquery'] = 1 if re.search(r'\\(.*?SELECT.*?\\)', sql, flags=re.DOTALL) else 0\n",
    "\n",
    "    subqueries = re.findall(r'\\(([^()]*(SELECT)[^()]*)\\)', sql)\n",
    "    features['nested_query_depth'] = len(subqueries)\n",
    "\n",
    "    features['word_count'] = len(sql.split())\n",
    "    features['char_count'] = len(sql)\n",
    "\n",
    "    table_matches = re.findall(r'\\bFROM\\s+(\\w+)|JOIN\\s+(\\w+)', sql)\n",
    "    tables = set([match[0] or match[1] for match in table_matches if match[0] or match[1]])\n",
    "    features['table_count'] = len(tables)\n",
    "\n",
    "    select_clause = re.search(r'SELECT\\s+(.*?)\\s+FROM', sql, re.IGNORECASE | re.DOTALL)\n",
    "    if select_clause:\n",
    "        columns = select_clause.group(1).split(',')\n",
    "        features['column_count'] = len([col for col in columns if col.strip()])\n",
    "    else:\n",
    "        features['column_count'] = 0\n",
    "\n",
    "    features['has_distinct'] = 1 if 'DISTINCT' in sql else 0\n",
    "\n",
    "    agg_funcs = ['COUNT', 'SUM', 'AVG', 'MAX', 'MIN']\n",
    "    features['aggregation_count'] = sum(len(re.findall(r'\\b' + func + r'\\b', sql)) for func in agg_funcs)\n",
    "\n",
    "    features['condition_count'] = len(re.findall(r'\\b(AND|OR)\\b', sql))\n",
    "\n",
    "    features['has_case_when'] = 1 if re.search(r'CASE\\s+WHEN', sql) else 0\n",
    "\n",
    "    return features"
   ]
  },
  {
   "cell_type": "code",
   "execution_count": 3,
   "id": "5390c93a",
   "metadata": {},
   "outputs": [
    {
     "name": "stdout",
     "output_type": "stream",
     "text": [
      "Encoding question with sentence-transformers/all-MiniLM-L6-v2...\n",
      "Encoding SQL with sentence-transformers/all-MiniLM-L6-v2...\n"
     ]
    },
    {
     "name": "stderr",
     "output_type": "stream",
     "text": [
      "Batches: 100%|██████████| 39/39 [00:05<00:00,  6.87it/s]\n",
      "Batches: 100%|██████████| 10/10 [00:01<00:00,  7.39it/s]\n"
     ]
    }
   ],
   "source": [
    "# -----------------------\n",
    "# 2. โหลดข้อมูล JSON เข้า DataFrame\n",
    "# -----------------------\n",
    "with open('../bird/data/dev/dev_j2c2j.json', 'r', encoding='utf-8') as f:\n",
    "    data = json.load(f)\n",
    "\n",
    "df = pd.DataFrame(data)[['SQL', 'question', 'difficulty']]\n",
    "difficulty_map = {'simple': 0, 'moderate': 1, 'challenging': 2}\n",
    "df['difficulty_label'] = df['difficulty'].map(difficulty_map)\n",
    "\n",
    "# -----------------------\n",
    "# 3. สร้าง Handcrafted Features จาก SQL\n",
    "# -----------------------\n",
    "feature_list = df['SQL'].apply(extract_sql_features)\n",
    "feature_df = pd.DataFrame(feature_list.tolist())\n",
    "\n",
    "# -----------------------\n",
    "# 4. แบ่งข้อมูล Train/Test\n",
    "# -----------------------\n",
    "X = df[['SQL', 'question']]\n",
    "y = df['difficulty_label']\n",
    "X_train, X_test, y_train, y_test = train_test_split(X, y, test_size=0.2, random_state=42, stratify=y)\n",
    "\n",
    "train_indices = X_train.index\n",
    "test_indices = X_test.index\n",
    "feature_train = feature_df.loc[train_indices]\n",
    "feature_test = feature_df.loc[test_indices]\n",
    "\n",
    "# -----------------------\n",
    "# 5. Scale Handcrafted Features\n",
    "# -----------------------\n",
    "scaler = StandardScaler()\n",
    "feature_train_scaled = scaler.fit_transform(feature_train)\n",
    "feature_test_scaled = scaler.transform(feature_test)\n",
    "\n",
    "# -----------------------\n",
    "# 6. Encode question และ SQL ด้วย MiniLM + ลดมิติด้วย SVD\n",
    "# -----------------------\n",
    "em_model = \"sentence-transformers/all-MiniLM-L6-v2\"\n",
    "embedder = SentenceTransformer(em_model)\n",
    "\n",
    "print(f\"Encoding question with {em_model}...\")\n",
    "question_train_embeddings = embedder.encode(X_train['question'].tolist(), normalize_embeddings=True)\n",
    "question_test_embeddings = embedder.encode(X_test['question'].tolist(), normalize_embeddings=True)\n",
    "\n",
    "svd = TruncatedSVD(n_components=50, random_state=42)  # ลดเหลือ 50 มิติ\n",
    "question_train_reduced = svd.fit_transform(question_train_embeddings)\n",
    "question_test_reduced = svd.transform(question_test_embeddings)\n",
    "\n",
    "print(f\"Encoding SQL with {em_model}...\")\n",
    "sql_train_embeddings = embedder.encode(X_train['SQL'].tolist(), show_progress_bar=True)\n",
    "sql_test_embeddings = embedder.encode(X_test['SQL'].tolist(), show_progress_bar=True)\n",
    "\n",
    "svd_sql = TruncatedSVD(n_components=50, random_state=42)\n",
    "sql_train_reduced = svd_sql.fit_transform(sql_train_embeddings)\n",
    "sql_test_reduced = svd_sql.transform(sql_test_embeddings)\n",
    "\n",
    "# -----------------------\n",
    "# 7. รวม Features ทั้งหมดเป็น matrix เดียว\n",
    "# -----------------------\n",
    "handcrafted_cols = [f\"f_handcrafted_{i}\" for i in range(feature_train_scaled.shape[1])]\n",
    "question_cols = [f\"f_question_{i}\" for i in range(question_train_reduced.shape[1])]\n",
    "sql_cols = [f\"f_sql_{i}\" for i in range(sql_train_reduced.shape[1])]\n",
    "\n",
    "X_train_combined = pd.DataFrame(\n",
    "    np.hstack([feature_train_scaled, question_train_reduced, sql_train_reduced]),\n",
    "    columns=handcrafted_cols + question_cols + sql_cols,\n",
    "    index=X_train.index\n",
    ")\n",
    "\n",
    "X_test_combined = pd.DataFrame(\n",
    "    np.hstack([feature_test_scaled, question_test_reduced, sql_test_reduced]),\n",
    "    columns=handcrafted_cols + question_cols + sql_cols,\n",
    "    index=X_test.index\n",
    ")"
   ]
  },
  {
   "cell_type": "code",
   "execution_count": null,
   "id": "f2fc08eb",
   "metadata": {},
   "outputs": [],
   "source": [
    "joblib.dump(scaler, 'scaler.joblib')\n",
    "joblib.dump(svd, 'svd_question.joblib')\n",
    "joblib.dump(svd_sql, 'svd_sql.joblib')"
   ]
  },
  {
   "cell_type": "markdown",
   "id": "2b9ac139",
   "metadata": {},
   "source": [
    "# Baseline"
   ]
  },
  {
   "cell_type": "code",
   "execution_count": 4,
   "id": "7b632e33",
   "metadata": {},
   "outputs": [
    {
     "name": "stdout",
     "output_type": "stream",
     "text": [
      "Training LightGBM model...\n"
     ]
    },
    {
     "name": "stderr",
     "output_type": "stream",
     "text": [
      "huggingface/tokenizers: The current process just got forked, after parallelism has already been used. Disabling parallelism to avoid deadlocks...\n",
      "To disable this warning, you can either:\n",
      "\t- Avoid using `tokenizers` before the fork if possible\n",
      "\t- Explicitly set the environment variable TOKENIZERS_PARALLELISM=(true | false)\n"
     ]
    },
    {
     "name": "stdout",
     "output_type": "stream",
     "text": [
      "Test Accuracy: 0.8143322475570033\n",
      "Test F1 (weighted): 0.8155943704152784\n",
      "Confusion Matrix:\n",
      " [[162  23   0]\n",
      " [ 18  70   5]\n",
      " [  0  11  18]]\n",
      "classification Report:\n",
      "               precision    recall  f1-score   support\n",
      "\n",
      "      simple       0.90      0.88      0.89       185\n",
      "    moderate       0.67      0.75      0.71        93\n",
      " challenging       0.78      0.62      0.69        29\n",
      "\n",
      "    accuracy                           0.81       307\n",
      "   macro avg       0.79      0.75      0.76       307\n",
      "weighted avg       0.82      0.81      0.82       307\n",
      "\n"
     ]
    },
    {
     "data": {
      "image/png": "[encoded data removed]",
      "text/plain": [
       "<Figure size 640x480 with 2 Axes>"
      ]
     },
     "metadata": {},
     "output_type": "display_data"
    }
   ],
   "source": [
    "# -----------------------\n",
    "# 8. Train LightGBM Model\n",
    "# -----------------------\n",
    "print(\"Training LightGBM model...\")\n",
    "baseline_model = LGBMClassifier(\n",
    "    class_weight='balanced',\n",
    "    random_state=42,\n",
    "    learning_rate=0.1,\n",
    "    max_depth=8,\n",
    "    n_estimators=200,\n",
    "    num_leaves=64,\n",
    "    verbose=-1\n",
    ")\n",
    "\n",
    "baseline_model.fit(X_train_combined, y_train)\n",
    "y_pred = baseline_model.predict(X_test_combined)\n",
    "\n",
    "# -----------------------\n",
    "# 9. Evaluation\n",
    "# -----------------------\n",
    "print(\"Test Accuracy:\", accuracy_score(y_test, y_pred))\n",
    "print(\"Test F1 (weighted):\", f1_score(y_test, y_pred, average='weighted'))\n",
    "print(\"Confusion Matrix:\\n\", confusion_matrix(y_test, y_pred))\n",
    "print(\"classification Report:\\n\", classification_report(y_test, y_pred, target_names=['simple', 'moderate', 'challenging']))\n",
    "\n",
    "labels = ['simple', 'moderate', 'challenging']\n",
    "cm = confusion_matrix(y_test, y_pred)\n",
    "sns.heatmap(cm, annot=True, fmt='d', cmap='Blues', xticklabels=labels, yticklabels=labels)\n",
    "plt.xlabel('Predicted')\n",
    "plt.ylabel('Actual')\n",
    "plt.title('Confusion Matrix')\n",
    "plt.show()"
   ]
  },
  {
   "cell_type": "code",
   "execution_count": null,
   "id": "692a40a4",
   "metadata": {},
   "outputs": [],
   "source": [
    "joblib.dump(baseline_model, 'lgbm_baseline_model.joblib')"
   ]
  },
  {
   "cell_type": "markdown",
   "id": "b47724a6",
   "metadata": {},
   "source": [
    "# SMOTE: All class"
   ]
  },
  {
   "cell_type": "code",
   "execution_count": 5,
   "id": "4731a766",
   "metadata": {},
   "outputs": [
    {
     "name": "stdout",
     "output_type": "stream",
     "text": [
      "Before SMOTE: [740 371 116]\n",
      "After SMOTE: [740 740 740]\n",
      "Training LightGBM model...\n"
     ]
    },
    {
     "name": "stderr",
     "output_type": "stream",
     "text": [
      "/Users/pathipanchongkul/spider_env/lib/python3.9/site-packages/sklearn/base.py:474: FutureWarning: `BaseEstimator._validate_data` is deprecated in 1.6 and will be removed in 1.7. Use `sklearn.utils.validation.validate_data` instead. This function becomes public and is part of the scikit-learn developer API.\n",
      "  warnings.warn(\n"
     ]
    },
    {
     "name": "stdout",
     "output_type": "stream",
     "text": [
      "Test Accuracy: 0.7947882736156352\n",
      "Test F1 (weighted): 0.7964094768233332\n",
      "Confusion Matrix:\n",
      " [[159  25   1]\n",
      " [ 21  65   7]\n",
      " [  0   9  20]]\n",
      "classification Report:\n",
      "               precision    recall  f1-score   support\n",
      "\n",
      "      simple       0.88      0.86      0.87       185\n",
      "    moderate       0.66      0.70      0.68        93\n",
      " challenging       0.71      0.69      0.70        29\n",
      "\n",
      "    accuracy                           0.79       307\n",
      "   macro avg       0.75      0.75      0.75       307\n",
      "weighted avg       0.80      0.79      0.80       307\n",
      "\n"
     ]
    },
    {
     "data": {
      "image/png": "[encoded data removed]",
      "text/plain": [
       "<Figure size 640x480 with 2 Axes>"
      ]
     },
     "metadata": {},
     "output_type": "display_data"
    }
   ],
   "source": [
    "print(\"Before SMOTE:\", np.bincount(y_train))\n",
    "\n",
    "X_train_resampled, y_train_resampled = SMOTE(random_state=42).fit_resample(X_train_combined, y_train)\n",
    "\n",
    "print(\"After SMOTE:\", np.bincount(y_train_resampled))\n",
    "\n",
    "# -----------------------\n",
    "# 8. Train LightGBM Model\n",
    "# -----------------------\n",
    "print(\"Training LightGBM model...\")\n",
    "smote_all_model = LGBMClassifier(\n",
    "    class_weight='balanced',\n",
    "    random_state=42,\n",
    "    learning_rate=0.1,\n",
    "    max_depth=8,\n",
    "    n_estimators=200,\n",
    "    num_leaves=64,\n",
    "    verbose=-1\n",
    ")\n",
    "\n",
    "smote_all_model.fit(X_train_resampled, y_train_resampled)\n",
    "y_pred = smote_all_model.predict(X_test_combined)\n",
    "\n",
    "print(\"Test Accuracy:\", accuracy_score(y_test, y_pred))\n",
    "print(\"Test F1 (weighted):\", f1_score(y_test, y_pred, average='weighted'))\n",
    "print(\"Confusion Matrix:\\n\", confusion_matrix(y_test, y_pred))\n",
    "print(\"classification Report:\\n\", classification_report(y_test, y_pred, target_names=['simple', 'moderate', 'challenging']))\n",
    "\n",
    "labels = ['simple', 'moderate', 'challenging']\n",
    "cm = confusion_matrix(y_test, y_pred)\n",
    "sns.heatmap(cm, annot=True, fmt='d', cmap='Blues', xticklabels=labels, yticklabels=labels)\n",
    "plt.xlabel('Predicted')\n",
    "plt.ylabel('Actual')\n",
    "plt.title('Confusion Matrix')\n",
    "plt.show()"
   ]
  },
  {
   "cell_type": "code",
   "execution_count": null,
   "id": "c8b72a4d",
   "metadata": {},
   "outputs": [],
   "source": [
    "joblib.dump(smote_all_model, 'lgbm_smote_all_model.joblib')"
   ]
  },
  {
   "cell_type": "markdown",
   "id": "f8a353fb",
   "metadata": {},
   "source": [
    "# SMOTE: Class 2"
   ]
  },
  {
   "cell_type": "code",
   "execution_count": 6,
   "id": "2c4e98c0",
   "metadata": {},
   "outputs": [
    {
     "name": "stdout",
     "output_type": "stream",
     "text": [
      "Before SMOTE: [740 371 116]\n",
      "After SMOTE: [740 371 500]\n",
      "Training LightGBM model...\n"
     ]
    },
    {
     "name": "stderr",
     "output_type": "stream",
     "text": [
      "/Users/pathipanchongkul/spider_env/lib/python3.9/site-packages/sklearn/base.py:474: FutureWarning: `BaseEstimator._validate_data` is deprecated in 1.6 and will be removed in 1.7. Use `sklearn.utils.validation.validate_data` instead. This function becomes public and is part of the scikit-learn developer API.\n",
      "  warnings.warn(\n"
     ]
    },
    {
     "name": "stdout",
     "output_type": "stream",
     "text": [
      "Test Accuracy: 0.8078175895765473\n",
      "Test F1 (weighted): 0.8081469780085488\n",
      "Confusion Matrix:\n",
      " [[163  21   1]\n",
      " [ 21  65   7]\n",
      " [  0   9  20]]\n",
      "classification Report:\n",
      "               precision    recall  f1-score   support\n",
      "\n",
      "      simple       0.89      0.88      0.88       185\n",
      "    moderate       0.68      0.70      0.69        93\n",
      " challenging       0.71      0.69      0.70        29\n",
      "\n",
      "    accuracy                           0.81       307\n",
      "   macro avg       0.76      0.76      0.76       307\n",
      "weighted avg       0.81      0.81      0.81       307\n",
      "\n"
     ]
    },
    {
     "data": {
      "image/png": "[encoded data removed]",
      "text/plain": [
       "<Figure size 640x480 with 2 Axes>"
      ]
     },
     "metadata": {},
     "output_type": "display_data"
    }
   ],
   "source": [
    "# 1. ดูจำนวนของแต่ละ class ใน training set\n",
    "print(\"Before SMOTE:\", np.bincount(y_train))\n",
    "\n",
    "# 2. เลือก oversample เฉพาะ class 2 (challenging)\n",
    "target_count = 500\n",
    "smote = SMOTE(sampling_strategy={2: target_count}, random_state=42)\n",
    "X_train_smote, y_train_smote = smote.fit_resample(X_train_combined, y_train)\n",
    "\n",
    "print(\"After SMOTE:\", np.bincount(y_train_smote))\n",
    "\n",
    "# -----------------------\n",
    "# 8. Train LightGBM Model\n",
    "# -----------------------\n",
    "print(\"Training LightGBM model...\")\n",
    "smote_class2_model = LGBMClassifier(\n",
    "    class_weight='balanced',\n",
    "    random_state=42,\n",
    "    learning_rate=0.1,\n",
    "    max_depth=8,\n",
    "    n_estimators=200,\n",
    "    num_leaves=64,\n",
    "    verbose=-1\n",
    ")\n",
    "\n",
    "smote_class2_model.fit(X_train_smote, y_train_smote)\n",
    "y_pred = smote_class2_model.predict(X_test_combined)\n",
    "\n",
    "print(\"Test Accuracy:\", accuracy_score(y_test, y_pred))\n",
    "print(\"Test F1 (weighted):\", f1_score(y_test, y_pred, average='weighted'))\n",
    "print(\"Confusion Matrix:\\n\", confusion_matrix(y_test, y_pred))\n",
    "print(\"classification Report:\\n\", classification_report(y_test, y_pred, target_names=['simple', 'moderate', 'challenging']))\n",
    "\n",
    "labels = ['simple', 'moderate', 'challenging']\n",
    "cm = confusion_matrix(y_test, y_pred)\n",
    "sns.heatmap(cm, annot=True, fmt='d', cmap='Blues', xticklabels=labels, yticklabels=labels)\n",
    "plt.xlabel('Predicted')\n",
    "plt.ylabel('Actual')\n",
    "plt.title('Confusion Matrix')\n",
    "plt.show()"
   ]
  },
  {
   "cell_type": "code",
   "execution_count": null,
   "id": "42abbf5f",
   "metadata": {},
   "outputs": [],
   "source": [
    "joblib.dump(smote_class2_model, 'lgbm_smote_class2_model.joblib')"
   ]
  },
  {
   "cell_type": "markdown",
   "id": "27a577d9",
   "metadata": {},
   "source": [
    "# GridsearchCV"
   ]
  },
  {
   "cell_type": "code",
   "execution_count": null,
   "id": "b4bc1569",
   "metadata": {},
   "outputs": [],
   "source": [
    "# พารามิเตอร์ครอบคลุมจาก baseline และเพิ่มความยืดหยุ่นบางจุด\n",
    "param_grid = {\n",
    "    'learning_rate': [0.05, 0.1],\n",
    "    'max_depth': [6, 8, 10],\n",
    "    'n_estimators': [100, 200],\n",
    "    'num_leaves': [31, 64],\n",
    "    'class_weight': ['balanced'],\n",
    "}\n",
    "\n",
    "# สร้าง model base\n",
    "base_model = LGBMClassifier(random_state=42, verbose=-1)\n",
    "\n",
    "# สร้าง GridSearchCV\n",
    "grid_search = GridSearchCV(\n",
    "    estimator=base_model,\n",
    "    param_grid=param_grid,\n",
    "    scoring='f1_weighted',\n",
    "    cv=5,\n",
    "    n_jobs=-1,\n",
    "    verbose=0\n",
    ")\n",
    "\n",
    "# Train บน training data\n",
    "print(\"Starting GridSearch...\")\n",
    "grid_search.fit(X_train_combined, y_train)\n",
    "\n",
    "# Evaluate บน test set\n",
    "best_model = grid_search.best_estimator_\n",
    "y_pred = best_model.predict(X_test_combined)\n",
    "\n",
    "print(\"\\nBest Parameters:\", grid_search.best_params_)\n",
    "print(\"Best CV F1 Score:\", grid_search.best_score_)\n",
    "\n",
    "print(\"\\nEvaluation on Test Set\")\n",
    "print(\"Test Accuracy:\", accuracy_score(y_test, y_pred))\n",
    "print(\"Test F1 (weighted):\", f1_score(y_test, y_pred, average='weighted'))\n",
    "print(\"Confusion Matrix:\\n\", confusion_matrix(y_test, y_pred))\n",
    "print(\"Classification Report:\\n\", classification_report(y_test, y_pred, target_names=['simple', 'moderate', 'challenging']))"
   ]
  }
 ],
 "metadata": {
  "kernelspec": {
   "display_name": "spider_env",
   "language": "python",
   "name": "python3"
  },
  "language_info": {
   "codemirror_mode": {
    "name": "ipython",
    "version": 3
   },
   "file_extension": ".py",
   "mimetype": "text/x-python",
   "name": "python",
   "nbconvert_exporter": "python",
   "pygments_lexer": "ipython3",
   "version": "3.9.5"
  }
 },
 "nbformat": 4,
 "nbformat_minor": 5
}
